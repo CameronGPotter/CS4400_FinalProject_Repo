{
  "nbformat": 4,
  "nbformat_minor": 0,
  "metadata": {
    "colab": {
      "name": "CS4400_FinalProject.ipynb",
      "provenance": [],
      "collapsed_sections": [],
      "machine_shape": "hm"
    },
    "kernelspec": {
      "name": "python3",
      "display_name": "Python 3"
    },
    "language_info": {
      "name": "python"
    },
    "accelerator": "GPU"
  },
  "cells": [
    {
      "cell_type": "markdown",
      "metadata": {
        "id": "_mfGYckKUJ-T"
      },
      "source": [
        "Connect to Google Drive"
      ]
    },
    {
      "cell_type": "code",
      "metadata": {
        "colab": {
          "base_uri": "https://localhost:8080/"
        },
        "id": "FrmkSIcHAqLR",
        "outputId": "34f3df64-42ef-48c7-924b-9c5318be12b5"
      },
      "source": [
        "from google.colab import drive\n",
        "from os.path import join\n",
        "ROOT = \"/content/drive\"\n",
        "print(ROOT)\n",
        "drive.mount(ROOT)"
      ],
      "execution_count": 1,
      "outputs": [
        {
          "output_type": "stream",
          "text": [
            "/content/drive\n",
            "Mounted at /content/drive\n"
          ],
          "name": "stdout"
        }
      ]
    },
    {
      "cell_type": "markdown",
      "metadata": {
        "id": "ZdL1jGeJUNQd"
      },
      "source": [
        "Navigate to Folder (change to necessary directory)"
      ]
    },
    {
      "cell_type": "code",
      "metadata": {
        "colab": {
          "base_uri": "https://localhost:8080/"
        },
        "id": "q2nptW9-A7Si",
        "outputId": "cc56a853-2ad6-4f3a-b1ba-4e7536c74610"
      },
      "source": [
        "%cd /content/drive/\n",
        "%cd 'MyDrive'\n",
        "%cd CS4400_FinalProject/"
      ],
      "execution_count": 2,
      "outputs": [
        {
          "output_type": "stream",
          "text": [
            "/content/drive\n",
            "/content/drive/MyDrive\n",
            "/content/drive/MyDrive/CS4400_FinalProject\n"
          ],
          "name": "stdout"
        }
      ]
    },
    {
      "cell_type": "markdown",
      "metadata": {
        "id": "Y_xUQokqUkcs"
      },
      "source": [
        "Download embeddings "
      ]
    },
    {
      "cell_type": "code",
      "metadata": {
        "colab": {
          "base_uri": "https://localhost:8080/"
        },
        "id": "xY6ckxTvOgVo",
        "outputId": "d62b0c07-442f-480c-be6e-0a8393bf3247"
      },
      "source": [
        "!wget https://dl.fbaipublicfiles.com/fasttext/vectors-wiki/wiki.en.zip --directory-prefix=/root/.vector_cache\n",
        "!unzip /root/.vector_cache/wiki.en.zip -d /root/.vector_cache/\n",
        "!rm /root/.vector_cache/wiki.en.vec"
      ],
      "execution_count": null,
      "outputs": [
        {
          "output_type": "stream",
          "text": [
            "--2021-04-27 06:45:57--  https://dl.fbaipublicfiles.com/fasttext/vectors-wiki/wiki.en.zip\n",
            "Resolving dl.fbaipublicfiles.com (dl.fbaipublicfiles.com)... 104.22.75.142, 104.22.74.142, 172.67.9.4, ...\n",
            "Connecting to dl.fbaipublicfiles.com (dl.fbaipublicfiles.com)|104.22.75.142|:443... connected.\n",
            "HTTP request sent, awaiting response... 200 OK\n",
            "Length: 10356881291 (9.6G) [application/zip]\n",
            "Saving to: ‘/root/.vector_cache/wiki.en.zip’\n",
            "\n",
            "wiki.en.zip         100%[===================>]   9.65G  12.6MB/s    in 13m 26s \n",
            "\n",
            "2021-04-27 06:59:24 (12.3 MB/s) - ‘/root/.vector_cache/wiki.en.zip’ saved [10356881291/10356881291]\n",
            "\n",
            "Archive:  /root/.vector_cache/wiki.en.zip\n",
            "  inflating: /root/.vector_cache/wiki.en.vec  \n",
            "  inflating: /root/.vector_cache/wiki.en.bin  \n"
          ],
          "name": "stdout"
        }
      ]
    },
    {
      "cell_type": "markdown",
      "metadata": {
        "id": "14pxIyMPUoGA"
      },
      "source": [
        "Pip install necessary packages"
      ]
    },
    {
      "cell_type": "code",
      "metadata": {
        "colab": {
          "base_uri": "https://localhost:8080/",
          "height": 1000
        },
        "id": "kFoAiySRFsSy",
        "outputId": "05ce29bb-1a67-4222-fa72-c7bdd0227562"
      },
      "source": [
        "!pip install py_entitymatching==0.3.2\n",
        "!pip install deepmatcher\n",
        "!pip install torchtext==0.8.1 \n",
        "!pip install requests==2.25.1\n",
        "!pip install recordlinkage\n",
        "!pip install py_entitymatching==0.3.2\n",
        "!pip install Cython\n",
        "!pip install scikit-learn==0.20.4 --force-reinstall\n",
        "!pip install nltk\n",
        "!pip install torch\n",
        "!pip install pandas\n",
        "!pip install numpy \n",
        "!pip install torch.nn\n",
        "!pip install xarray\n",
        "!pip install IPython.display\n",
        "!pip install os.path \n",
        "!pip install sklearn.utils "
      ],
      "execution_count": 3,
      "outputs": [
        {
          "output_type": "stream",
          "text": [
            "Collecting py_entitymatching==0.3.2\n",
            "\u001b[?25l  Downloading https://files.pythonhosted.org/packages/d1/f0/aac98c3049180c83d421bd08d3094a69cf8aa4677e3b6e38a36f34742d63/py_entitymatching-0.3.2.tar.gz (2.0MB)\n",
            "\u001b[K     |████████████████████████████████| 2.0MB 13.7MB/s \n",
            "\u001b[?25hRequirement already satisfied: requests in /usr/local/lib/python3.7/dist-packages (from py_entitymatching==0.3.2) (2.23.0)\n",
            "Collecting ipython==5.6\n",
            "\u001b[?25l  Downloading https://files.pythonhosted.org/packages/28/4b/901f509201b9ceb45460faab694f329b36009fe39d3bb48b6b38490e92a9/ipython-5.6.0-py3-none-any.whl (760kB)\n",
            "\u001b[K     |████████████████████████████████| 768kB 49.1MB/s \n",
            "\u001b[?25hRequirement already satisfied: matplotlib>=2.2.4 in /usr/local/lib/python3.7/dist-packages (from py_entitymatching==0.3.2) (3.2.2)\n",
            "Collecting PyPrind\n",
            "  Downloading https://files.pythonhosted.org/packages/ab/b3/1f12ebc5009c65b607509393ad98240728b4401bc3593868fb161fdd3760/PyPrind-2.11.3-py2.py3-none-any.whl\n",
            "Collecting py-stringsimjoin>=0.3.0\n",
            "\u001b[?25l  Downloading https://files.pythonhosted.org/packages/69/f8/343a7277ce5952a923302bb29ac547a2e3eab45965fdf40a7dd43ed058ef/py_stringsimjoin-0.3.2.tar.gz (1.1MB)\n",
            "\u001b[K     |████████████████████████████████| 1.1MB 58.7MB/s \n",
            "\u001b[?25hRequirement already satisfied: cloudpickle>=0.2.1 in /usr/local/lib/python3.7/dist-packages (from py_entitymatching==0.3.2) (1.3.0)\n",
            "Requirement already satisfied: pyparsing>=2.1.4 in /usr/local/lib/python3.7/dist-packages (from py_entitymatching==0.3.2) (2.4.7)\n",
            "Requirement already satisfied: scikit-learn>=0.18 in /usr/local/lib/python3.7/dist-packages (from py_entitymatching==0.3.2) (0.22.2.post1)\n",
            "Requirement already satisfied: scipy in /usr/local/lib/python3.7/dist-packages (from py_entitymatching==0.3.2) (1.4.1)\n",
            "Collecting numpy==1.16.2\n",
            "\u001b[?25l  Downloading https://files.pythonhosted.org/packages/91/e7/6c780e612d245cca62bc3ba8e263038f7c144a96a54f877f3714a0e8427e/numpy-1.16.2-cp37-cp37m-manylinux1_x86_64.whl (17.3MB)\n",
            "\u001b[K     |████████████████████████████████| 17.3MB 303kB/s \n",
            "\u001b[?25hRequirement already satisfied: chardet<4,>=3.0.2 in /usr/local/lib/python3.7/dist-packages (from requests->py_entitymatching==0.3.2) (3.0.4)\n",
            "Requirement already satisfied: certifi>=2017.4.17 in /usr/local/lib/python3.7/dist-packages (from requests->py_entitymatching==0.3.2) (2020.12.5)\n",
            "Requirement already satisfied: idna<3,>=2.5 in /usr/local/lib/python3.7/dist-packages (from requests->py_entitymatching==0.3.2) (2.10)\n",
            "Requirement already satisfied: urllib3!=1.25.0,!=1.25.1,<1.26,>=1.21.1 in /usr/local/lib/python3.7/dist-packages (from requests->py_entitymatching==0.3.2) (1.24.3)\n",
            "Requirement already satisfied: pygments in /usr/local/lib/python3.7/dist-packages (from ipython==5.6->py_entitymatching==0.3.2) (2.6.1)\n",
            "Requirement already satisfied: decorator in /usr/local/lib/python3.7/dist-packages (from ipython==5.6->py_entitymatching==0.3.2) (4.4.2)\n",
            "Requirement already satisfied: setuptools>=18.5 in /usr/local/lib/python3.7/dist-packages (from ipython==5.6->py_entitymatching==0.3.2) (56.0.0)\n",
            "Requirement already satisfied: pickleshare in /usr/local/lib/python3.7/dist-packages (from ipython==5.6->py_entitymatching==0.3.2) (0.7.5)\n",
            "Requirement already satisfied: traitlets>=4.2 in /usr/local/lib/python3.7/dist-packages (from ipython==5.6->py_entitymatching==0.3.2) (5.0.5)\n",
            "Requirement already satisfied: prompt-toolkit<2.0.0,>=1.0.4 in /usr/local/lib/python3.7/dist-packages (from ipython==5.6->py_entitymatching==0.3.2) (1.0.18)\n",
            "Requirement already satisfied: pexpect; sys_platform != \"win32\" in /usr/local/lib/python3.7/dist-packages (from ipython==5.6->py_entitymatching==0.3.2) (4.8.0)\n",
            "Requirement already satisfied: simplegeneric>0.8 in /usr/local/lib/python3.7/dist-packages (from ipython==5.6->py_entitymatching==0.3.2) (0.8.1)\n",
            "Requirement already satisfied: cycler>=0.10 in /usr/local/lib/python3.7/dist-packages (from matplotlib>=2.2.4->py_entitymatching==0.3.2) (0.10.0)\n",
            "Requirement already satisfied: python-dateutil>=2.1 in /usr/local/lib/python3.7/dist-packages (from matplotlib>=2.2.4->py_entitymatching==0.3.2) (2.8.1)\n",
            "Requirement already satisfied: kiwisolver>=1.0.1 in /usr/local/lib/python3.7/dist-packages (from matplotlib>=2.2.4->py_entitymatching==0.3.2) (1.3.1)\n",
            "Requirement already satisfied: joblib in /usr/local/lib/python3.7/dist-packages (from py-stringsimjoin>=0.3.0->py_entitymatching==0.3.2) (1.0.1)\n",
            "Requirement already satisfied: pandas>=0.16.0 in /usr/local/lib/python3.7/dist-packages (from py-stringsimjoin>=0.3.0->py_entitymatching==0.3.2) (1.1.5)\n",
            "Collecting py_stringmatching>=0.2.1\n",
            "\u001b[?25l  Downloading https://files.pythonhosted.org/packages/90/d1/9163e0b0ac3bbb0f727ef8d380985c23066fb98d5005a34483ad76da06b4/py_stringmatching-0.4.2.tar.gz (661kB)\n",
            "\u001b[K     |████████████████████████████████| 665kB 55.0MB/s \n",
            "\u001b[?25hRequirement already satisfied: six in /usr/local/lib/python3.7/dist-packages (from py-stringsimjoin>=0.3.0->py_entitymatching==0.3.2) (1.15.0)\n",
            "Requirement already satisfied: ipython-genutils in /usr/local/lib/python3.7/dist-packages (from traitlets>=4.2->ipython==5.6->py_entitymatching==0.3.2) (0.2.0)\n",
            "Requirement already satisfied: wcwidth in /usr/local/lib/python3.7/dist-packages (from prompt-toolkit<2.0.0,>=1.0.4->ipython==5.6->py_entitymatching==0.3.2) (0.2.5)\n",
            "Requirement already satisfied: ptyprocess>=0.5 in /usr/local/lib/python3.7/dist-packages (from pexpect; sys_platform != \"win32\"->ipython==5.6->py_entitymatching==0.3.2) (0.7.0)\n",
            "Requirement already satisfied: pytz>=2017.2 in /usr/local/lib/python3.7/dist-packages (from pandas>=0.16.0->py-stringsimjoin>=0.3.0->py_entitymatching==0.3.2) (2018.9)\n",
            "Building wheels for collected packages: py-entitymatching, py-stringsimjoin, py-stringmatching\n",
            "  Building wheel for py-entitymatching (setup.py) ... \u001b[?25l\u001b[?25hdone\n",
            "  Created wheel for py-entitymatching: filename=py_entitymatching-0.3.2-cp37-cp37m-linux_x86_64.whl size=2633757 sha256=f4e39c36b4447d8527b571f9f5eecb8b64eb44607aa3e674934f51cc6daa1f84\n",
            "  Stored in directory: /root/.cache/pip/wheels/9c/9f/3f/cc2ab8f3f977938669cbbb16b5f48151eb707f34e7fa0a6af2\n",
            "  Building wheel for py-stringsimjoin (setup.py) ... \u001b[?25l\u001b[?25hdone\n",
            "  Created wheel for py-stringsimjoin: filename=py_stringsimjoin-0.3.2-cp37-cp37m-linux_x86_64.whl size=3703396 sha256=62fdc66663ae88d11458833df5ab8b9578aa45e41cb6b55bb23d6d131297ea29\n",
            "  Stored in directory: /root/.cache/pip/wheels/58/30/8e/6fa463100ff6e8595b131067ec43a118c607f621ac297e7dad\n",
            "  Building wheel for py-stringmatching (setup.py) ... \u001b[?25l\u001b[?25hdone\n",
            "  Created wheel for py-stringmatching: filename=py_stringmatching-0.4.2-cp37-cp37m-linux_x86_64.whl size=2055232 sha256=80f929772db8fa68741c46bbde6155a1c74f66ab6191bc4d55ac1c8e75a62467\n",
            "  Stored in directory: /root/.cache/pip/wheels/be/8c/5d/bcdaf17d0784738b73e856ebc4061cd3f2509753a83dd71058\n",
            "Successfully built py-entitymatching py-stringsimjoin py-stringmatching\n",
            "\u001b[31mERROR: tensorflow 2.4.1 has requirement numpy~=1.19.2, but you'll have numpy 1.16.2 which is incompatible.\u001b[0m\n",
            "\u001b[31mERROR: pyarrow 3.0.0 has requirement numpy>=1.16.6, but you'll have numpy 1.16.2 which is incompatible.\u001b[0m\n",
            "\u001b[31mERROR: google-colab 1.0.0 has requirement ipython~=5.5.0, but you'll have ipython 5.6.0 which is incompatible.\u001b[0m\n",
            "\u001b[31mERROR: datascience 0.10.6 has requirement folium==0.2.1, but you'll have folium 0.8.3 which is incompatible.\u001b[0m\n",
            "\u001b[31mERROR: astropy 4.2.1 has requirement numpy>=1.17, but you'll have numpy 1.16.2 which is incompatible.\u001b[0m\n",
            "\u001b[31mERROR: albumentations 0.1.12 has requirement imgaug<0.2.7,>=0.2.5, but you'll have imgaug 0.2.9 which is incompatible.\u001b[0m\n",
            "Installing collected packages: ipython, PyPrind, numpy, py-stringmatching, py-stringsimjoin, py-entitymatching\n",
            "  Found existing installation: ipython 5.5.0\n",
            "    Uninstalling ipython-5.5.0:\n",
            "      Successfully uninstalled ipython-5.5.0\n",
            "  Found existing installation: numpy 1.19.5\n",
            "    Uninstalling numpy-1.19.5:\n",
            "      Successfully uninstalled numpy-1.19.5\n",
            "Successfully installed PyPrind-2.11.3 ipython-5.6.0 numpy-1.16.2 py-entitymatching-0.3.2 py-stringmatching-0.4.2 py-stringsimjoin-0.3.2\n"
          ],
          "name": "stdout"
        },
        {
          "output_type": "display_data",
          "data": {
            "application/vnd.colab-display-data+json": {
              "pip_warning": {
                "packages": [
                  "IPython",
                  "numpy"
                ]
              }
            }
          },
          "metadata": {
            "tags": []
          }
        },
        {
          "output_type": "stream",
          "text": [
            "Collecting deepmatcher\n",
            "\u001b[?25l  Downloading https://files.pythonhosted.org/packages/76/60/8a22c3d94a1c6ebf123d6aa75f4ba5c6ddecb8fe3ac0660e7908b8aa5d11/deepmatcher-0.1.1.tar.gz (50kB)\n",
            "\u001b[K     |████████████████████████████████| 51kB 5.4MB/s \n",
            "\u001b[?25hRequirement already satisfied: torch>=1.0 in /usr/local/lib/python3.7/dist-packages (from deepmatcher) (1.8.1+cu101)\n",
            "Requirement already satisfied: tqdm in /usr/local/lib/python3.7/dist-packages (from deepmatcher) (4.41.1)\n",
            "Requirement already satisfied: pyprind in /usr/local/lib/python3.7/dist-packages (from deepmatcher) (2.11.3)\n",
            "Requirement already satisfied: six in /usr/local/lib/python3.7/dist-packages (from deepmatcher) (1.15.0)\n",
            "Requirement already satisfied: Cython in /usr/local/lib/python3.7/dist-packages (from deepmatcher) (0.29.22)\n",
            "Requirement already satisfied: torchtext in /usr/local/lib/python3.7/dist-packages (from deepmatcher) (0.9.1)\n",
            "Requirement already satisfied: nltk>=3.2.5 in /usr/local/lib/python3.7/dist-packages (from deepmatcher) (3.2.5)\n",
            "Collecting fasttextmirror\n",
            "\u001b[?25l  Downloading https://files.pythonhosted.org/packages/fb/78/cf79876cfbb92bf7baae65472b19c680f6e20eaf55ca41721a53ea2014bb/fasttextmirror-0.8.22.tar.gz (45kB)\n",
            "\u001b[K     |████████████████████████████████| 51kB 5.6MB/s \n",
            "\u001b[?25hRequirement already satisfied: pandas in /usr/local/lib/python3.7/dist-packages (from deepmatcher) (1.1.5)\n",
            "Requirement already satisfied: dill in /usr/local/lib/python3.7/dist-packages (from deepmatcher) (0.3.3)\n",
            "Requirement already satisfied: typing-extensions in /usr/local/lib/python3.7/dist-packages (from torch>=1.0->deepmatcher) (3.7.4.3)\n",
            "Requirement already satisfied: numpy in /usr/local/lib/python3.7/dist-packages (from torch>=1.0->deepmatcher) (1.16.2)\n",
            "Requirement already satisfied: requests in /usr/local/lib/python3.7/dist-packages (from torchtext->deepmatcher) (2.23.0)\n",
            "Collecting pybind11>=2.2\n",
            "\u001b[?25l  Downloading https://files.pythonhosted.org/packages/8d/43/7339dbabbc2793718d59703aace4166f53c29ee1c202f6ff5bf8a26c4d91/pybind11-2.6.2-py2.py3-none-any.whl (191kB)\n",
            "\u001b[K     |████████████████████████████████| 194kB 17.6MB/s \n",
            "\u001b[?25hRequirement already satisfied: setuptools>=0.7.0 in /usr/local/lib/python3.7/dist-packages (from fasttextmirror->deepmatcher) (56.0.0)\n",
            "Requirement already satisfied: pytz>=2017.2 in /usr/local/lib/python3.7/dist-packages (from pandas->deepmatcher) (2018.9)\n",
            "Requirement already satisfied: python-dateutil>=2.7.3 in /usr/local/lib/python3.7/dist-packages (from pandas->deepmatcher) (2.8.1)\n",
            "Requirement already satisfied: idna<3,>=2.5 in /usr/local/lib/python3.7/dist-packages (from requests->torchtext->deepmatcher) (2.10)\n",
            "Requirement already satisfied: chardet<4,>=3.0.2 in /usr/local/lib/python3.7/dist-packages (from requests->torchtext->deepmatcher) (3.0.4)\n",
            "Requirement already satisfied: urllib3!=1.25.0,!=1.25.1,<1.26,>=1.21.1 in /usr/local/lib/python3.7/dist-packages (from requests->torchtext->deepmatcher) (1.24.3)\n",
            "Requirement already satisfied: certifi>=2017.4.17 in /usr/local/lib/python3.7/dist-packages (from requests->torchtext->deepmatcher) (2020.12.5)\n",
            "Building wheels for collected packages: deepmatcher, fasttextmirror\n",
            "  Building wheel for deepmatcher (setup.py) ... \u001b[?25l\u001b[?25hdone\n",
            "  Created wheel for deepmatcher: filename=deepmatcher-0.1.1-py2.py3-none-any.whl size=53977 sha256=9289d39d174c96de80513f75557a36144845c0493db96914e5e57f98b75ef028\n",
            "  Stored in directory: /root/.cache/pip/wheels/d1/10/15/ca32c4f9cd2d4cd441f26b252698a9ee005b95f9153f0253eb\n",
            "  Building wheel for fasttextmirror (setup.py) ... \u001b[?25lerror\n",
            "\u001b[31m  ERROR: Failed building wheel for fasttextmirror\u001b[0m\n",
            "\u001b[?25h  Running setup.py clean for fasttextmirror\n",
            "Successfully built deepmatcher\n",
            "Failed to build fasttextmirror\n",
            "Installing collected packages: pybind11, fasttextmirror, deepmatcher\n",
            "    Running setup.py install for fasttextmirror ... \u001b[?25l\u001b[?25hdone\n",
            "Successfully installed deepmatcher-0.1.1 fasttextmirror-0.8.22 pybind11-2.6.2\n",
            "Collecting torchtext==0.8.1\n",
            "\u001b[?25l  Downloading https://files.pythonhosted.org/packages/13/80/046f0691b296e755ae884df3ca98033cb9afcaf287603b2b7999e94640b8/torchtext-0.8.1-cp37-cp37m-manylinux1_x86_64.whl (7.0MB)\n",
            "\u001b[K     |████████████████████████████████| 7.0MB 7.6MB/s \n",
            "\u001b[?25hRequirement already satisfied: tqdm in /usr/local/lib/python3.7/dist-packages (from torchtext==0.8.1) (4.41.1)\n",
            "Collecting torch==1.7.1\n",
            "\u001b[?25l  Downloading https://files.pythonhosted.org/packages/90/5d/095ddddc91c8a769a68c791c019c5793f9c4456a688ddd235d6670924ecb/torch-1.7.1-cp37-cp37m-manylinux1_x86_64.whl (776.8MB)\n",
            "\u001b[K     |████████████████████████████████| 776.8MB 23kB/s \n",
            "\u001b[?25hRequirement already satisfied: requests in /usr/local/lib/python3.7/dist-packages (from torchtext==0.8.1) (2.23.0)\n",
            "Requirement already satisfied: numpy in /usr/local/lib/python3.7/dist-packages (from torchtext==0.8.1) (1.16.2)\n",
            "Requirement already satisfied: typing-extensions in /usr/local/lib/python3.7/dist-packages (from torch==1.7.1->torchtext==0.8.1) (3.7.4.3)\n",
            "Requirement already satisfied: certifi>=2017.4.17 in /usr/local/lib/python3.7/dist-packages (from requests->torchtext==0.8.1) (2020.12.5)\n",
            "Requirement already satisfied: urllib3!=1.25.0,!=1.25.1,<1.26,>=1.21.1 in /usr/local/lib/python3.7/dist-packages (from requests->torchtext==0.8.1) (1.24.3)\n",
            "Requirement already satisfied: idna<3,>=2.5 in /usr/local/lib/python3.7/dist-packages (from requests->torchtext==0.8.1) (2.10)\n",
            "Requirement already satisfied: chardet<4,>=3.0.2 in /usr/local/lib/python3.7/dist-packages (from requests->torchtext==0.8.1) (3.0.4)\n",
            "\u001b[31mERROR: torchvision 0.9.1+cu101 has requirement torch==1.8.1, but you'll have torch 1.7.1 which is incompatible.\u001b[0m\n",
            "Installing collected packages: torch, torchtext\n",
            "  Found existing installation: torch 1.8.1+cu101\n",
            "    Uninstalling torch-1.8.1+cu101:\n",
            "      Successfully uninstalled torch-1.8.1+cu101\n",
            "  Found existing installation: torchtext 0.9.1\n",
            "    Uninstalling torchtext-0.9.1:\n",
            "      Successfully uninstalled torchtext-0.9.1\n",
            "Successfully installed torch-1.7.1 torchtext-0.8.1\n",
            "Collecting requests==2.25.1\n",
            "\u001b[?25l  Downloading https://files.pythonhosted.org/packages/29/c1/24814557f1d22c56d50280771a17307e6bf87b70727d975fd6b2ce6b014a/requests-2.25.1-py2.py3-none-any.whl (61kB)\n",
            "\u001b[K     |████████████████████████████████| 61kB 5.6MB/s \n",
            "\u001b[?25hRequirement already satisfied: chardet<5,>=3.0.2 in /usr/local/lib/python3.7/dist-packages (from requests==2.25.1) (3.0.4)\n",
            "Requirement already satisfied: certifi>=2017.4.17 in /usr/local/lib/python3.7/dist-packages (from requests==2.25.1) (2020.12.5)\n",
            "Requirement already satisfied: urllib3<1.27,>=1.21.1 in /usr/local/lib/python3.7/dist-packages (from requests==2.25.1) (1.24.3)\n",
            "Requirement already satisfied: idna<3,>=2.5 in /usr/local/lib/python3.7/dist-packages (from requests==2.25.1) (2.10)\n",
            "\u001b[31mERROR: google-colab 1.0.0 has requirement ipython~=5.5.0, but you'll have ipython 5.6.0 which is incompatible.\u001b[0m\n",
            "\u001b[31mERROR: google-colab 1.0.0 has requirement requests~=2.23.0, but you'll have requests 2.25.1 which is incompatible.\u001b[0m\n",
            "\u001b[31mERROR: datascience 0.10.6 has requirement folium==0.2.1, but you'll have folium 0.8.3 which is incompatible.\u001b[0m\n",
            "Installing collected packages: requests\n",
            "  Found existing installation: requests 2.23.0\n",
            "    Uninstalling requests-2.23.0:\n",
            "      Successfully uninstalled requests-2.23.0\n",
            "Successfully installed requests-2.25.1\n",
            "Collecting recordlinkage\n",
            "\u001b[?25l  Downloading https://files.pythonhosted.org/packages/db/26/babbca39d74824e8bc17428a8eb04951a1d63318af7d02beeb2106a1ec26/recordlinkage-0.14-py3-none-any.whl (944kB)\n",
            "\u001b[K     |████████████████████████████████| 952kB 13.3MB/s \n",
            "\u001b[?25hRequirement already satisfied: pandas>=0.23 in /usr/local/lib/python3.7/dist-packages (from recordlinkage) (1.1.5)\n",
            "Requirement already satisfied: numpy>=1.13.0 in /usr/local/lib/python3.7/dist-packages (from recordlinkage) (1.16.2)\n",
            "Collecting jellyfish>=0.5.4\n",
            "\u001b[?25l  Downloading https://files.pythonhosted.org/packages/30/a6/4d039bc827a102f62ce7a7910713e38fdfd7c7a40aa39c72fb14938a1473/jellyfish-0.8.2-cp37-cp37m-manylinux2014_x86_64.whl (90kB)\n",
            "\u001b[K     |████████████████████████████████| 92kB 11.3MB/s \n",
            "\u001b[?25hRequirement already satisfied: scipy>=1 in /usr/local/lib/python3.7/dist-packages (from recordlinkage) (1.4.1)\n",
            "Requirement already satisfied: joblib in /usr/local/lib/python3.7/dist-packages (from recordlinkage) (1.0.1)\n",
            "Requirement already satisfied: scikit-learn>=0.19.0 in /usr/local/lib/python3.7/dist-packages (from recordlinkage) (0.22.2.post1)\n",
            "Requirement already satisfied: python-dateutil>=2.7.3 in /usr/local/lib/python3.7/dist-packages (from pandas>=0.23->recordlinkage) (2.8.1)\n",
            "Requirement already satisfied: pytz>=2017.2 in /usr/local/lib/python3.7/dist-packages (from pandas>=0.23->recordlinkage) (2018.9)\n",
            "Requirement already satisfied: six>=1.5 in /usr/local/lib/python3.7/dist-packages (from python-dateutil>=2.7.3->pandas>=0.23->recordlinkage) (1.15.0)\n",
            "Installing collected packages: jellyfish, recordlinkage\n",
            "Successfully installed jellyfish-0.8.2 recordlinkage-0.14\n",
            "Requirement already satisfied: py_entitymatching==0.3.2 in /usr/local/lib/python3.7/dist-packages (0.3.2)\n",
            "Requirement already satisfied: scikit-learn>=0.18 in /usr/local/lib/python3.7/dist-packages (from py_entitymatching==0.3.2) (0.22.2.post1)\n",
            "Requirement already satisfied: cloudpickle>=0.2.1 in /usr/local/lib/python3.7/dist-packages (from py_entitymatching==0.3.2) (1.3.0)\n",
            "Requirement already satisfied: requests in /usr/local/lib/python3.7/dist-packages (from py_entitymatching==0.3.2) (2.25.1)\n",
            "Requirement already satisfied: matplotlib>=2.2.4 in /usr/local/lib/python3.7/dist-packages (from py_entitymatching==0.3.2) (3.2.2)\n",
            "Requirement already satisfied: pyparsing>=2.1.4 in /usr/local/lib/python3.7/dist-packages (from py_entitymatching==0.3.2) (2.4.7)\n",
            "Requirement already satisfied: numpy==1.16.2 in /usr/local/lib/python3.7/dist-packages (from py_entitymatching==0.3.2) (1.16.2)\n",
            "Requirement already satisfied: scipy in /usr/local/lib/python3.7/dist-packages (from py_entitymatching==0.3.2) (1.4.1)\n",
            "Requirement already satisfied: py-stringsimjoin>=0.3.0 in /usr/local/lib/python3.7/dist-packages (from py_entitymatching==0.3.2) (0.3.2)\n",
            "Requirement already satisfied: ipython==5.6 in /usr/local/lib/python3.7/dist-packages (from py_entitymatching==0.3.2) (5.6.0)\n",
            "Requirement already satisfied: PyPrind in /usr/local/lib/python3.7/dist-packages (from py_entitymatching==0.3.2) (2.11.3)\n",
            "Requirement already satisfied: joblib>=0.11 in /usr/local/lib/python3.7/dist-packages (from scikit-learn>=0.18->py_entitymatching==0.3.2) (1.0.1)\n",
            "Requirement already satisfied: idna<3,>=2.5 in /usr/local/lib/python3.7/dist-packages (from requests->py_entitymatching==0.3.2) (2.10)\n",
            "Requirement already satisfied: chardet<5,>=3.0.2 in /usr/local/lib/python3.7/dist-packages (from requests->py_entitymatching==0.3.2) (3.0.4)\n",
            "Requirement already satisfied: certifi>=2017.4.17 in /usr/local/lib/python3.7/dist-packages (from requests->py_entitymatching==0.3.2) (2020.12.5)\n",
            "Requirement already satisfied: urllib3<1.27,>=1.21.1 in /usr/local/lib/python3.7/dist-packages (from requests->py_entitymatching==0.3.2) (1.24.3)\n",
            "Requirement already satisfied: kiwisolver>=1.0.1 in /usr/local/lib/python3.7/dist-packages (from matplotlib>=2.2.4->py_entitymatching==0.3.2) (1.3.1)\n",
            "Requirement already satisfied: cycler>=0.10 in /usr/local/lib/python3.7/dist-packages (from matplotlib>=2.2.4->py_entitymatching==0.3.2) (0.10.0)\n",
            "Requirement already satisfied: python-dateutil>=2.1 in /usr/local/lib/python3.7/dist-packages (from matplotlib>=2.2.4->py_entitymatching==0.3.2) (2.8.1)\n",
            "Requirement already satisfied: six in /usr/local/lib/python3.7/dist-packages (from py-stringsimjoin>=0.3.0->py_entitymatching==0.3.2) (1.15.0)\n",
            "Requirement already satisfied: py-stringmatching>=0.2.1 in /usr/local/lib/python3.7/dist-packages (from py-stringsimjoin>=0.3.0->py_entitymatching==0.3.2) (0.4.2)\n",
            "Requirement already satisfied: pandas>=0.16.0 in /usr/local/lib/python3.7/dist-packages (from py-stringsimjoin>=0.3.0->py_entitymatching==0.3.2) (1.1.5)\n",
            "Requirement already satisfied: decorator in /usr/local/lib/python3.7/dist-packages (from ipython==5.6->py_entitymatching==0.3.2) (4.4.2)\n",
            "Requirement already satisfied: simplegeneric>0.8 in /usr/local/lib/python3.7/dist-packages (from ipython==5.6->py_entitymatching==0.3.2) (0.8.1)\n",
            "Requirement already satisfied: traitlets>=4.2 in /usr/local/lib/python3.7/dist-packages (from ipython==5.6->py_entitymatching==0.3.2) (5.0.5)\n",
            "Requirement already satisfied: pygments in /usr/local/lib/python3.7/dist-packages (from ipython==5.6->py_entitymatching==0.3.2) (2.6.1)\n",
            "Requirement already satisfied: setuptools>=18.5 in /usr/local/lib/python3.7/dist-packages (from ipython==5.6->py_entitymatching==0.3.2) (56.0.0)\n",
            "Requirement already satisfied: prompt-toolkit<2.0.0,>=1.0.4 in /usr/local/lib/python3.7/dist-packages (from ipython==5.6->py_entitymatching==0.3.2) (1.0.18)\n",
            "Requirement already satisfied: pickleshare in /usr/local/lib/python3.7/dist-packages (from ipython==5.6->py_entitymatching==0.3.2) (0.7.5)\n",
            "Requirement already satisfied: pexpect; sys_platform != \"win32\" in /usr/local/lib/python3.7/dist-packages (from ipython==5.6->py_entitymatching==0.3.2) (4.8.0)\n",
            "Requirement already satisfied: pytz>=2017.2 in /usr/local/lib/python3.7/dist-packages (from pandas>=0.16.0->py-stringsimjoin>=0.3.0->py_entitymatching==0.3.2) (2018.9)\n",
            "Requirement already satisfied: ipython-genutils in /usr/local/lib/python3.7/dist-packages (from traitlets>=4.2->ipython==5.6->py_entitymatching==0.3.2) (0.2.0)\n",
            "Requirement already satisfied: wcwidth in /usr/local/lib/python3.7/dist-packages (from prompt-toolkit<2.0.0,>=1.0.4->ipython==5.6->py_entitymatching==0.3.2) (0.2.5)\n",
            "Requirement already satisfied: ptyprocess>=0.5 in /usr/local/lib/python3.7/dist-packages (from pexpect; sys_platform != \"win32\"->ipython==5.6->py_entitymatching==0.3.2) (0.7.0)\n",
            "Requirement already satisfied: Cython in /usr/local/lib/python3.7/dist-packages (0.29.22)\n",
            "Collecting scikit-learn==0.20.4\n",
            "\u001b[?25l  Downloading https://files.pythonhosted.org/packages/87/6f/5863f1b27523c5d9f0ae2f3d07828ad383ceab39c79726d2ea4da7f679e7/scikit_learn-0.20.4-cp37-cp37m-manylinux1_x86_64.whl (5.4MB)\n",
            "\u001b[K     |████████████████████████████████| 5.4MB 9.2MB/s \n",
            "\u001b[?25hCollecting numpy>=1.8.2\n",
            "\u001b[?25l  Downloading https://files.pythonhosted.org/packages/73/ef/8967d406f3f85018ceb5efab50431e901683188f1741ceb053efcab26c87/numpy-1.20.2-cp37-cp37m-manylinux2010_x86_64.whl (15.3MB)\n",
            "\u001b[K     |████████████████████████████████| 15.3MB 55.0MB/s \n",
            "\u001b[?25hCollecting scipy>=0.13.3\n",
            "\u001b[?25l  Downloading https://files.pythonhosted.org/packages/7d/e8/43ffca541d2f208d516296950b25fe1084b35c2881f4d444c1346ca75815/scipy-1.6.3-cp37-cp37m-manylinux1_x86_64.whl (27.4MB)\n",
            "\u001b[K     |████████████████████████████████| 27.4MB 42.8MB/s \n",
            "\u001b[31mERROR: torchvision 0.9.1+cu101 has requirement torch==1.8.1, but you'll have torch 1.7.1 which is incompatible.\u001b[0m\n",
            "\u001b[31mERROR: tensorflow 2.4.1 has requirement numpy~=1.19.2, but you'll have numpy 1.20.2 which is incompatible.\u001b[0m\n",
            "\u001b[31mERROR: py-entitymatching 0.3.2 has requirement numpy==1.16.2, but you'll have numpy 1.20.2 which is incompatible.\u001b[0m\n",
            "\u001b[31mERROR: google-colab 1.0.0 has requirement ipython~=5.5.0, but you'll have ipython 5.6.0 which is incompatible.\u001b[0m\n",
            "\u001b[31mERROR: google-colab 1.0.0 has requirement requests~=2.23.0, but you'll have requests 2.25.1 which is incompatible.\u001b[0m\n",
            "\u001b[31mERROR: datascience 0.10.6 has requirement folium==0.2.1, but you'll have folium 0.8.3 which is incompatible.\u001b[0m\n",
            "\u001b[31mERROR: albumentations 0.1.12 has requirement imgaug<0.2.7,>=0.2.5, but you'll have imgaug 0.2.9 which is incompatible.\u001b[0m\n",
            "\u001b[?25hInstalling collected packages: numpy, scipy, scikit-learn\n",
            "  Found existing installation: numpy 1.16.2\n",
            "    Uninstalling numpy-1.16.2:\n",
            "      Successfully uninstalled numpy-1.16.2\n",
            "  Found existing installation: scipy 1.4.1\n",
            "    Uninstalling scipy-1.4.1:\n",
            "      Successfully uninstalled scipy-1.4.1\n",
            "  Found existing installation: scikit-learn 0.22.2.post1\n",
            "    Uninstalling scikit-learn-0.22.2.post1:\n",
            "      Successfully uninstalled scikit-learn-0.22.2.post1\n",
            "Successfully installed numpy-1.20.2 scikit-learn-0.20.4 scipy-1.6.3\n"
          ],
          "name": "stdout"
        },
        {
          "output_type": "display_data",
          "data": {
            "application/vnd.colab-display-data+json": {
              "pip_warning": {
                "packages": [
                  "numpy"
                ]
              }
            }
          },
          "metadata": {
            "tags": []
          }
        },
        {
          "output_type": "stream",
          "text": [
            "Requirement already satisfied: nltk in /usr/local/lib/python3.7/dist-packages (3.2.5)\n",
            "Requirement already satisfied: six in /usr/local/lib/python3.7/dist-packages (from nltk) (1.15.0)\n",
            "Requirement already satisfied: torch in /usr/local/lib/python3.7/dist-packages (1.7.1)\n",
            "Requirement already satisfied: typing-extensions in /usr/local/lib/python3.7/dist-packages (from torch) (3.7.4.3)\n",
            "Requirement already satisfied: numpy in /usr/local/lib/python3.7/dist-packages (from torch) (1.20.2)\n",
            "Requirement already satisfied: pandas in /usr/local/lib/python3.7/dist-packages (1.1.5)\n",
            "Requirement already satisfied: pytz>=2017.2 in /usr/local/lib/python3.7/dist-packages (from pandas) (2018.9)\n",
            "Requirement already satisfied: python-dateutil>=2.7.3 in /usr/local/lib/python3.7/dist-packages (from pandas) (2.8.1)\n",
            "Requirement already satisfied: numpy>=1.15.4 in /usr/local/lib/python3.7/dist-packages (from pandas) (1.20.2)\n",
            "Requirement already satisfied: six>=1.5 in /usr/local/lib/python3.7/dist-packages (from python-dateutil>=2.7.3->pandas) (1.15.0)\n",
            "Requirement already satisfied: numpy in /usr/local/lib/python3.7/dist-packages (1.20.2)\n",
            "Collecting torch.nn\n",
            "  Downloading https://files.pythonhosted.org/packages/28/4f/29edaae23de47fde6705d1bc0ac53b96cb1e80b96ef715db04abebc00448/torch.nn-0.0.7.tar.gz\n",
            "Requirement already satisfied: requests in /usr/local/lib/python3.7/dist-packages (from torch.nn) (2.25.1)\n",
            "Requirement already satisfied: urllib3<1.27,>=1.21.1 in /usr/local/lib/python3.7/dist-packages (from requests->torch.nn) (1.24.3)\n",
            "Requirement already satisfied: idna<3,>=2.5 in /usr/local/lib/python3.7/dist-packages (from requests->torch.nn) (2.10)\n",
            "Requirement already satisfied: certifi>=2017.4.17 in /usr/local/lib/python3.7/dist-packages (from requests->torch.nn) (2020.12.5)\n",
            "Requirement already satisfied: chardet<5,>=3.0.2 in /usr/local/lib/python3.7/dist-packages (from requests->torch.nn) (3.0.4)\n",
            "Building wheels for collected packages: torch.nn\n",
            "  Building wheel for torch.nn (setup.py) ... \u001b[?25lerror\n",
            "\u001b[31m  ERROR: Failed building wheel for torch.nn\u001b[0m\n",
            "\u001b[?25h  Running setup.py clean for torch.nn\n",
            "Failed to build torch.nn\n",
            "Installing collected packages: torch.nn\n",
            "    Running setup.py install for torch.nn ... \u001b[?25l\u001b[?25herror\n",
            "\u001b[31mERROR: Command errored out with exit status 1: /usr/bin/python3 -u -c 'import sys, setuptools, tokenize; sys.argv[0] = '\"'\"'/tmp/pip-install-01bfyfnk/torch.nn/setup.py'\"'\"'; __file__='\"'\"'/tmp/pip-install-01bfyfnk/torch.nn/setup.py'\"'\"';f=getattr(tokenize, '\"'\"'open'\"'\"', open)(__file__);code=f.read().replace('\"'\"'\\r\\n'\"'\"', '\"'\"'\\n'\"'\"');f.close();exec(compile(code, __file__, '\"'\"'exec'\"'\"'))' install --record /tmp/pip-record-tumho3qb/install-record.txt --single-version-externally-managed --compile Check the logs for full command output.\u001b[0m\n",
            "Requirement already satisfied: xarray in /usr/local/lib/python3.7/dist-packages (0.15.1)\n",
            "Requirement already satisfied: setuptools>=41.2 in /usr/local/lib/python3.7/dist-packages (from xarray) (56.0.0)\n",
            "Requirement already satisfied: numpy>=1.15 in /usr/local/lib/python3.7/dist-packages (from xarray) (1.20.2)\n",
            "Requirement already satisfied: pandas>=0.25 in /usr/local/lib/python3.7/dist-packages (from xarray) (1.1.5)\n",
            "Requirement already satisfied: python-dateutil>=2.7.3 in /usr/local/lib/python3.7/dist-packages (from pandas>=0.25->xarray) (2.8.1)\n",
            "Requirement already satisfied: pytz>=2017.2 in /usr/local/lib/python3.7/dist-packages (from pandas>=0.25->xarray) (2018.9)\n",
            "Requirement already satisfied: six>=1.5 in /usr/local/lib/python3.7/dist-packages (from python-dateutil>=2.7.3->pandas>=0.25->xarray) (1.15.0)\n",
            "\u001b[31mERROR: Could not find a version that satisfies the requirement IPython.display (from versions: none)\u001b[0m\n",
            "\u001b[31mERROR: No matching distribution found for IPython.display\u001b[0m\n",
            "\u001b[31mERROR: Could not find a version that satisfies the requirement os.path (from versions: none)\u001b[0m\n",
            "\u001b[31mERROR: No matching distribution found for os.path\u001b[0m\n",
            "Collecting sklearn.utils\n",
            "  Downloading https://files.pythonhosted.org/packages/fa/90/513bad627e9e8b76760d1d6d4e917641f96e6d384494226abb378940f125/sklearn_utils-0.0.15.tar.gz\n",
            "Requirement already satisfied: numpy in /usr/local/lib/python3.7/dist-packages (from sklearn.utils) (1.20.2)\n",
            "Collecting pyfunctional\n",
            "\u001b[?25l  Downloading https://files.pythonhosted.org/packages/bf/04/5356e1e3f738d519991af1829b4868436c0c9fd6511107b4ad19aecb9bd6/PyFunctional-1.4.3-py3-none-any.whl (49kB)\n",
            "\u001b[K     |████████████████████████████████| 51kB 6.6MB/s \n",
            "\u001b[?25hRequirement already satisfied: pandas in /usr/local/lib/python3.7/dist-packages (from sklearn.utils) (1.1.5)\n",
            "Requirement already satisfied: scipy in /usr/local/lib/python3.7/dist-packages (from sklearn.utils) (1.6.3)\n",
            "Requirement already satisfied: scikit-learn in /usr/local/lib/python3.7/dist-packages (from sklearn.utils) (0.20.4)\n",
            "Requirement already satisfied: statsmodels in /usr/local/lib/python3.7/dist-packages (from sklearn.utils) (0.10.2)\n",
            "Requirement already satisfied: seaborn in /usr/local/lib/python3.7/dist-packages (from sklearn.utils) (0.11.1)\n",
            "Requirement already satisfied: dill>=0.2.5 in /usr/local/lib/python3.7/dist-packages (from pyfunctional->sklearn.utils) (0.3.3)\n",
            "Requirement already satisfied: tabulate<=1.0.0 in /usr/local/lib/python3.7/dist-packages (from pyfunctional->sklearn.utils) (0.8.9)\n",
            "Requirement already satisfied: pytz>=2017.2 in /usr/local/lib/python3.7/dist-packages (from pandas->sklearn.utils) (2018.9)\n",
            "Requirement already satisfied: python-dateutil>=2.7.3 in /usr/local/lib/python3.7/dist-packages (from pandas->sklearn.utils) (2.8.1)\n",
            "Requirement already satisfied: patsy>=0.4.0 in /usr/local/lib/python3.7/dist-packages (from statsmodels->sklearn.utils) (0.5.1)\n",
            "Requirement already satisfied: matplotlib>=2.2 in /usr/local/lib/python3.7/dist-packages (from seaborn->sklearn.utils) (3.2.2)\n",
            "Requirement already satisfied: six>=1.5 in /usr/local/lib/python3.7/dist-packages (from python-dateutil>=2.7.3->pandas->sklearn.utils) (1.15.0)\n",
            "Requirement already satisfied: kiwisolver>=1.0.1 in /usr/local/lib/python3.7/dist-packages (from matplotlib>=2.2->seaborn->sklearn.utils) (1.3.1)\n",
            "Requirement already satisfied: cycler>=0.10 in /usr/local/lib/python3.7/dist-packages (from matplotlib>=2.2->seaborn->sklearn.utils) (0.10.0)\n",
            "Requirement already satisfied: pyparsing!=2.0.4,!=2.1.2,!=2.1.6,>=2.0.1 in /usr/local/lib/python3.7/dist-packages (from matplotlib>=2.2->seaborn->sklearn.utils) (2.4.7)\n",
            "Building wheels for collected packages: sklearn.utils\n",
            "  Building wheel for sklearn.utils (setup.py) ... \u001b[?25l\u001b[?25hdone\n",
            "  Created wheel for sklearn.utils: filename=sklearn_utils-0.0.15-cp37-none-any.whl size=27881 sha256=10d69d923d1334c42de315dffe6e459f05768e9113172f6ea2da312694590354\n",
            "  Stored in directory: /root/.cache/pip/wheels/eb/4e/57/de4e188f2e7989e7e45e07af4fea41237ae77b9931f3c82c26\n",
            "Successfully built sklearn.utils\n",
            "Installing collected packages: pyfunctional, sklearn.utils\n",
            "Successfully installed pyfunctional-1.4.3 sklearn.utils\n"
          ],
          "name": "stdout"
        }
      ]
    },
    {
      "cell_type": "markdown",
      "metadata": {
        "id": "hmbn39obUsfG"
      },
      "source": [
        "Check if cuda capable devide is avaliable (reccomended)"
      ]
    },
    {
      "cell_type": "code",
      "metadata": {
        "colab": {
          "base_uri": "https://localhost:8080/"
        },
        "id": "_c2BANfYF9xS",
        "outputId": "70d73637-0bab-4770-8c60-b1e639bc0610"
      },
      "source": [
        "import torch\n",
        "torch.cuda.is_available()"
      ],
      "execution_count": null,
      "outputs": [
        {
          "output_type": "execute_result",
          "data": {
            "text/plain": [
              "True"
            ]
          },
          "metadata": {
            "tags": []
          },
          "execution_count": 2
        }
      ]
    },
    {
      "cell_type": "markdown",
      "metadata": {
        "id": "QZeozYzPVVUX"
      },
      "source": [
        "Run solution.py"
      ]
    },
    {
      "cell_type": "code",
      "metadata": {
        "colab": {
          "base_uri": "https://localhost:8080/"
        },
        "id": "YBJqV18iKDTS",
        "outputId": "224bc7f8-1ee5-4c25-fc58-8c06df541bda"
      },
      "source": [
        "!python solution.py"
      ],
      "execution_count": null,
      "outputs": [
        {
          "output_type": "stream",
          "text": [
            "/usr/local/lib/python3.7/dist-packages/scipy/__init__.py:140: UserWarning: A NumPy version >=1.16.5 and <1.23.0 is required for this version of SciPy (detected version 1.16.2)\n",
            "  UserWarning)\n",
            "[nltk_data] Downloading package punkt to /root/nltk_data...\n",
            "[nltk_data]   Package punkt is already up-to-date!\n",
            "WARNING:py_entitymatching.io.parsers:Metadata file is not present in the given path; proceeding to read the csv file.\n",
            "WARNING:py_entitymatching.io.parsers:Metadata file is not present in the given path; proceeding to read the csv file.\n",
            "0% [##############################] 100% | ETA: 00:00:00\n",
            "Total time elapsed: 00:00:00\n",
            "Finding pairs with missing value...\n",
            "0% [##] 100% | ETA: 00:00:00\n",
            "Total time elapsed: 00:00:00\n",
            "['id', 'match_score']\n",
            "            id  match_score\n",
            "0            0     0.277260\n",
            "1            1     0.304906\n",
            "2            2     0.359362\n",
            "3            3     0.312300\n",
            "4            4     0.293809\n",
            "...        ...          ...\n",
            "387829  387829     0.215922\n",
            "387830  387830     0.321445\n",
            "387831  387831     0.230459\n",
            "387832  387832     0.245395\n",
            "387833  387833     0.273448\n",
            "\n",
            "[387834 rows x 2 columns]\n",
            "            id  match_score\n",
            "0            0     0.277260\n",
            "1            1     0.304906\n",
            "2            2     0.359362\n",
            "3            3     0.312300\n",
            "4            4     0.293809\n",
            "...        ...          ...\n",
            "387829  387829     0.215922\n",
            "387830  387830     0.321445\n",
            "387831  387831     0.230459\n",
            "387832  387832     0.245395\n",
            "387833  387833     0.273448\n",
            "\n",
            "[387834 rows x 2 columns]\n",
            "            id  ...  right_price\n",
            "0            0  ...        12.65\n",
            "1            1  ...        12.65\n",
            "2            2  ...        12.65\n",
            "3            3  ...        10.28\n",
            "4            4  ...        10.28\n",
            "...        ...  ...          ...\n",
            "387829  387829  ...         6.70\n",
            "387830  387830  ...         6.70\n",
            "387831  387831  ...         6.70\n",
            "387832  387832  ...         6.70\n",
            "387833  387833  ...         6.70\n",
            "\n",
            "[387834 rows x 14 columns]\n"
          ],
          "name": "stdout"
        }
      ]
    }
  ]
}